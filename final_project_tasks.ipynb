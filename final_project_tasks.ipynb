{
 "cells": [
  {
   "cell_type": "code",
   "execution_count": null,
   "id": "40bc7898",
   "metadata": {},
   "outputs": [
    {
     "name": "stdout",
     "output_type": "stream",
     "text": [
      "Deposited 50. New balance: 150\n",
      "Withdrew 30. New balance: 120\n",
      "Current balance: 120\n"
     ]
    }
   ],
   "source": [
    "class BankAccount:\n",
    "    def __init__(self, balance):\n",
    "        self.balance = balance\n",
    "\n",
    "    def deposit(self, amount):\n",
    "        self.balance += amount\n",
    "        print(f'Deposited {amount}. New balance: {self.balance}')\n",
    "\n",
    "    def withdraw(self, amount):\n",
    "        if amount > self.balance:\n",
    "            print('Insufficient funds')\n",
    "        else:\n",
    "            self.balance -= amount\n",
    "            print(f'Withdrew {amount}. New balance: {self.balance}')\n",
    "\n",
    "    def check_balance(self):\n",
    "        print(f'Current balance: {self.balance}')\n",
    "\n",
    "\n",
    "\n",
    "account = BankAccount(100)\n",
    "account.deposit(50)\n",
    "account.withdraw(30)\n",
    "account.check_balance()\n"
   ]
  },
  {
   "cell_type": "code",
   "execution_count": 7,
   "id": "12c88547",
   "metadata": {},
   "outputs": [
    {
     "name": "stdout",
     "output_type": "stream",
     "text": [
      "Welcome to the calculator!\n",
      "Choose an operation:\n",
      "1: Add\n",
      "2: Subtract\n",
      "3: Multiply\n",
      "4: Divide\n",
      "Invalid choice! Please select a valid operation (1/2/3/4).\n"
     ]
    }
   ],
   "source": [
    "class Calculator:\n",
    "    def __init__(self):\n",
    "        \"\"\"Initializes the calculator class.\"\"\"\n",
    "        pass  # You can add any initialization logic here if needed\n",
    "\n",
    "    def add(self, a, b):\n",
    "        \"\"\"Add two numbers.\"\"\"\n",
    "        pass  # Implement addition logic here\n",
    "\n",
    "    def subtract(self, a, b):\n",
    "        \"\"\"Subtract two numbers.\"\"\"\n",
    "        pass  # Implement subtraction logic here\n",
    "\n",
    "    def multiply(self, a, b):\n",
    "        \"\"\"Multiply two numbers.\"\"\"\n",
    "        pass  # Implement multiplication logic here\n",
    "\n",
    "    def divide(self, a, b):\n",
    "        \"\"\"Divide two numbers.\"\"\"\n",
    "        pass  # Implement division logic here\n",
    "\n",
    "    def calculator(self):\n",
    "        \"\"\"Main calculator logic to get user input and perform operations.\"\"\"\n",
    "        print(\"Welcome to the calculator!\")\n",
    "        print(\"Choose an operation:\")\n",
    "        print(\"1: Add\")\n",
    "        print(\"2: Subtract\")\n",
    "        print(\"3: Multiply\")\n",
    "        print(\"4: Divide\")\n",
    "\n",
    "        choice = input(\"Enter the number of the operation you want to perform (1/2/3/4): \")\n",
    "\n",
    "        if choice in ['1', '2', '3', '4']:\n",
    "            try:\n",
    "                num1 = float(input(\"Enter the first number: \"))\n",
    "                num2 = float(input(\"Enter the second number: \"))\n",
    "            except ValueError:\n",
    "                print(\"Invalid input! Please enter numbers only.\")\n",
    "                return\n",
    "            \n",
    "            if choice == '1':\n",
    "                print(f\"{num1} + {num2} = {self.add(num1, num2)}\")\n",
    "            elif choice == '2':\n",
    "                print(f\"{num1} - {num2} = {self.subtract(num1, num2)}\")\n",
    "            elif choice == '3':\n",
    "                print(f\"{num1} * {num2} = {self.multiply(num1, num2)}\")\n",
    "            elif choice == '4':\n",
    "                result = self.divide(num1, num2)\n",
    "                if isinstance(result, str):\n",
    "                    print(result)  # Prints error message\n",
    "                else:\n",
    "                    print(f\"{num1} / {num2} = {result}\")\n",
    "        else:\n",
    "            print(\"Invalid choice! Please select a valid operation (1/2/3/4).\")\n",
    "\n",
    "# Usage example\n",
    "if __name__ == \"__main__\":\n",
    "    calculator = Calculator()\n",
    "    calculator.calculator()\n"
   ]
  },
  {
   "cell_type": "code",
   "execution_count": 14,
   "id": "f903df7d",
   "metadata": {},
   "outputs": [
    {
     "name": "stdout",
     "output_type": "stream",
     "text": [
      "Woof!\n",
      "meow\n",
      "moo\n"
     ]
    }
   ],
   "source": [
    "from abc import ABC, abstractmethod\n",
    "class Animal(ABC):\n",
    "    @abstractmethod\n",
    "    def make_sound(self):\n",
    "        pass\n",
    "    \n",
    "class Dog(Animal):\n",
    "    def make_sound(self):\n",
    "        return \"Woof!\"\n",
    "class cat(Animal):\n",
    "  def make_sound(self):\n",
    "    return\"meow\"\n",
    "class cow(Animal):\n",
    "  def make_sound(self):\n",
    "    return\"moo\"\n",
    "d= Dog()\n",
    "print(d.make_sound())\n",
    "c=cat()\n",
    "print(c.make_sound())\n",
    "c=cow()\n",
    "print(c.make_sound())"
   ]
  },
  {
   "cell_type": "code",
   "execution_count": 17,
   "id": "5b1c200f",
   "metadata": {},
   "outputs": [
    {
     "name": "stdout",
     "output_type": "stream",
     "text": [
      "{'Ali': 4, 'Welcome': 1, 'No': 3, 'Hi': 2}\n"
     ]
    }
   ],
   "source": [
    "def count_unique_word(words):\n",
    "    unique_words=set(words)\n",
    "    counts={word:0 for word in unique_words}\n",
    "    for i in unique_words:\n",
    "        for j in words:\n",
    "            if i ==j:\n",
    "                counts[i]+=1\n",
    "\n",
    "    return counts\n",
    "\n",
    "words = [\"Welcome\", \"Ali\", \"Hi\", \"Ali\", \"No\", \"Hi\", \"No\", \"Ali\", \"No\", \"Ali\"]\n",
    "result=count_unique_word(words)\n",
    "print(result)\n",
    "\n"
   ]
  },
  {
   "cell_type": "code",
   "execution_count": null,
   "id": "f5d44e53",
   "metadata": {},
   "outputs": [
    {
     "name": "stdout",
     "output_type": "stream",
     "text": [
      "Usernames extracted successfully.\n",
      "{}\n"
     ]
    }
   ],
   "source": [
    "def read_txt_file(file_path):\n",
    "    try:\n",
    "        with open(file_path,'r', encoding='utf-8')as file:\n",
    "            content=file.read()\n",
    "        return content\n",
    "    except FileNotFoundError:\n",
    "        return f\"Error: The file '{D:/AMIT/matries/sessions/code/file_text.txt}' was not found.\"\n",
    "    except IOError:\n",
    "        return \"Error: An error occurred while reading the file.\"\n",
    "\n",
    "\n",
    "\n",
    "class UserExtractor:\n",
    "    def __init__(self,file_path):\n",
    "        self.file_path=file_path\n",
    "        self.usernames={}\n",
    "\n",
    "\n",
    "    def extract_usernames(self):\n",
    "        content = read_txt_file(self.file_path)\n",
    "        \n",
    "        if content.startswith(\"Error:\"):\n",
    "            print(content)\n",
    "            return\n",
    "        \n",
    "        lines = content.strip().split(\"\\n\")\n",
    "        for line in lines:\n",
    "            if \":\" in line:\n",
    "                username, password = line.split(\":\", 1)\n",
    "                username = username.strip()\n",
    "                password = password.strip()\n",
    "                \n",
    "                # Avoid duplicate usernames\n",
    "                if username not in self.usernames:\n",
    "                    self.usernames[username] = password\n",
    "                else:\n",
    "                    print(f\"Warning: Duplicate username '{username}' ignored.\")\n",
    "\n",
    "        print(\"Usernames extracted successfully.\")\n",
    "        return self.usernames\n",
    "\n",
    "if __name__ == \"__main__\":\n",
    "    file_path = 'D:/AMIT/matries/sessions/code/file_text.txt'  \n",
    "    extractor = UserExtractor(file_path)\n",
    "    users_dict = extractor.extract_usernames()\n",
    "    print(users_dict)\n",
    "\n"
   ]
  },
  {
   "cell_type": "code",
   "execution_count": null,
   "id": "814fae48",
   "metadata": {},
   "outputs": [],
   "source": []
  }
 ],
 "metadata": {
  "kernelspec": {
   "display_name": "Python 3",
   "language": "python",
   "name": "python3"
  },
  "language_info": {
   "codemirror_mode": {
    "name": "ipython",
    "version": 3
   },
   "file_extension": ".py",
   "mimetype": "text/x-python",
   "name": "python",
   "nbconvert_exporter": "python",
   "pygments_lexer": "ipython3",
   "version": "3.12.9"
  }
 },
 "nbformat": 4,
 "nbformat_minor": 5
}
